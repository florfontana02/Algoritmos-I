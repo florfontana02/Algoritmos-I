{
  "cells": [
    {
      "cell_type": "markdown",
      "metadata": {
        "id": "zYtNXjWyr4O3"
      },
      "source": [
        "### Configuración"
      ]
    },
    {
      "cell_type": "code",
      "execution_count": null,
      "metadata": {
        "cellView": "form",
        "id": "UdEKXtLmrzr9"
      },
      "outputs": [],
      "source": [
        "# @title Dependencias necesarias\n",
        "import pandas as pd\n",
        "import matplotlib.pyplot as plt\n",
        "import matplotlib as mpl\n",
        "import folium"
      ]
    },
    {
      "cell_type": "code",
      "execution_count": null,
      "metadata": {
        "cellView": "form",
        "id": "Jf81XrLrsiLS"
      },
      "outputs": [],
      "source": [
        "# @title Declaración de métodos y constantes\n",
        "# Ideas sacadas de https://www.jpytr.com/post/analysinggeographicdatawithfolium/\n",
        "\n",
        "colors = [\n",
        "    'red',\n",
        "    'blue',\n",
        "    'gray',\n",
        "    'darkred',\n",
        "    'lightred',\n",
        "    'orange',\n",
        "    'beige',\n",
        "    'green',\n",
        "    'darkgreen',\n",
        "    'lightgreen',\n",
        "    'darkblue',\n",
        "    'lightblue',\n",
        "    'purple',\n",
        "    'darkpurple',\n",
        "    'pink',\n",
        "    'cadetblue',\n",
        "    'lightgray',\n",
        "    'black'\n",
        "]\n",
        "\n",
        "def dibujar_mapa():\n",
        "    mapa = folium.Map(location=(-31.30, -64.12),\n",
        "                      zoom_start=11)\n",
        "    return mapa\n",
        "\n",
        "\n",
        "def dibujar_grilla(mapa, grilla):\n",
        "    for i, celda in grilla.iterrows():\n",
        "        upper_left = (celda[\"lower_left_lng\"], celda[\"upper_right_lat\"])\n",
        "        upper_right = (celda[\"upper_right_lng\"], celda[\"upper_right_lat\"])\n",
        "        lower_right = (celda[\"upper_right_lng\"], celda[\"lower_left_lat\"])\n",
        "        lower_left = (celda[\"lower_left_lng\"], celda[\"lower_left_lat\"])\n",
        "\n",
        "        coordinates = [\n",
        "            upper_left,\n",
        "            upper_right,\n",
        "            lower_right,\n",
        "            lower_left,\n",
        "            upper_left\n",
        "        ]\n",
        "        geo_json = {\"type\": \"FeatureCollection\",\n",
        "                    \"properties\": {\n",
        "                        \"name\": celda[\"name\"],\n",
        "                    },\n",
        "                    \"features\": [{\n",
        "                        \"type\": \"Feature\",\n",
        "                        \"geometry\": {\n",
        "                            \"type\": \"Polygon\",\n",
        "                            \"coordinates\": [coordinates],\n",
        "                        }\n",
        "                    }]\n",
        "                   }\n",
        "\n",
        "        color = plt.cm.Reds(i / len(grilla))\n",
        "        color = mpl.colors.to_hex(color)\n",
        "\n",
        "        gj = folium.GeoJson(geo_json,\n",
        "                            style_function=lambda feature, color=color: {'fillColor': color,\n",
        "                                                                         'color': \"black\",\n",
        "                                                                         'weight': 2,\n",
        "                                                                         'fillOpacity': 0.15,\n",
        "                                                                         'dashArray': '5, 5',\n",
        "                                                                         })\n",
        "        popup = folium.Popup(geo_json[\"properties\"][\"name\"])\n",
        "        gj.add_child(popup)\n",
        "\n",
        "        mapa.add_child(gj)\n",
        "\n",
        "    return mapa\n",
        "\n",
        "\n",
        "def dibujar_recorrido(mapa, recorrido, color=\"blue\"):\n",
        "    folium.PolyLine(recorrido, color=color, weight=2.5, opacity=1).add_to(mapa)\n",
        "    for lat, lng in recorrido:\n",
        "        folium.Marker(location=[lat, lng], icon=folium.Icon(color=color)).add_to(mapa)\n",
        "    return mapa"
      ]
    },
    {
      "cell_type": "markdown",
      "metadata": {
        "id": "qfV2I4g0tIL7"
      },
      "source": [
        "### Definimos los archivos con los datos\n",
        "**Importante:** subirlos al Colab (panel izquierdo) y asignar a las variables los nombres correspondientes"
      ]
    },
    {
      "cell_type": "code",
      "execution_count": null,
      "metadata": {
        "id": "zVxJ4e20uDCp"
      },
      "outputs": [],
      "source": [
        "grilla_filename     = 'grilla_ejemplo.csv'\n",
        "recorridos_filename = 'recorridos_ejemplo.csv'"
      ]
    },
    {
      "cell_type": "markdown",
      "metadata": {
        "id": "-meGcSZVvmR0"
      },
      "source": [
        "### Dibujamos!"
      ]
    },
    {
      "cell_type": "code",
      "execution_count": null,
      "metadata": {
        "id": "eDweBxH9v0iv"
      },
      "outputs": [],
      "source": [
        "mapa = dibujar_mapa()\n",
        "\n",
        "grilla = pd.read_csv(grilla_filename, sep=\"\\t\", names=[\"lower_left_lat\",  \"lower_left_lng\", \"upper_right_lat\", \"upper_right_lng\", \"name\"], index_col=None)\n",
        "mapa   = dibujar_grilla(mapa, grilla)\n",
        "\n",
        "recorridos = pd.read_csv(recorridos_filename, sep=\"\\t\", names=[\"recorrido_id\", \"lat\", \"lng\"], index_col=None)\n",
        "for i, rec in enumerate(recorridos.groupby(\"recorrido_id\").apply(lambda r: list(zip(r.lat, r.lng)))):\n",
        "  mapa = dibujar_recorrido(mapa, rec, color=colors[i])\n",
        "\n",
        "mapa"
      ]
    }
  ],
  "metadata": {
    "colab": {
      "name": "DibujarGrilla.ipynb",
      "provenance": []
    },
    "kernelspec": {
      "display_name": "Python 3",
      "name": "python3"
    },
    "language_info": {
      "name": "python"
    }
  },
  "nbformat": 4,
  "nbformat_minor": 0
}
